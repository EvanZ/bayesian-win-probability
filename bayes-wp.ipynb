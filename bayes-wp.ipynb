{
 "cells": [
  {
   "cell_type": "code",
   "execution_count": 1,
   "metadata": {},
   "outputs": [],
   "source": [
    "import tensorflow as tf\n",
    "import tensorflow_datasets as tfds\n",
    "import pandas as pd\n",
    "import dataset\n",
    "import numpy as np\n",
    "import matplotlib.pyplot as plt\n",
    "from sklearn.model_selection import train_test_split\n",
    "%matplotlib inline"
   ]
  },
  {
   "cell_type": "code",
   "execution_count": 11,
   "metadata": {},
   "outputs": [
    {
     "name": "stdout",
     "output_type": "stream",
     "text": [
      "Requirement already satisfied: matplotlib in ./scraper/lib/python3.7/site-packages (3.1.2)\n",
      "Requirement already satisfied: python-dateutil>=2.1 in ./scraper/lib/python3.7/site-packages (from matplotlib) (2.8.1)\n",
      "Requirement already satisfied: cycler>=0.10 in ./scraper/lib/python3.7/site-packages (from matplotlib) (0.10.0)\n",
      "Requirement already satisfied: kiwisolver>=1.0.1 in ./scraper/lib/python3.7/site-packages (from matplotlib) (1.1.0)\n",
      "Requirement already satisfied: pyparsing!=2.0.4,!=2.1.2,!=2.1.6,>=2.0.1 in ./scraper/lib/python3.7/site-packages (from matplotlib) (2.4.5)\n",
      "Requirement already satisfied: numpy>=1.11 in ./scraper/lib/python3.7/site-packages (from matplotlib) (1.17.4)\n",
      "Requirement already satisfied: six>=1.5 in ./scraper/lib/python3.7/site-packages (from python-dateutil>=2.1->matplotlib) (1.13.0)\n",
      "Requirement already satisfied: setuptools in ./scraper/lib/python3.7/site-packages (from kiwisolver>=1.0.1->matplotlib) (42.0.2)\n"
     ]
    }
   ],
   "source": [
    "!pip install matplotlib"
   ]
  },
  {
   "cell_type": "code",
   "execution_count": 2,
   "metadata": {},
   "outputs": [
    {
     "name": "stdout",
     "output_type": "stream",
     "text": [
      "2.0.0\n"
     ]
    }
   ],
   "source": [
    "print(tf.__version__)"
   ]
  },
  {
   "cell_type": "code",
   "execution_count": 4,
   "metadata": {},
   "outputs": [
    {
     "data": {
      "text/html": [
       "<div>\n",
       "<style scoped>\n",
       "    .dataframe tbody tr th:only-of-type {\n",
       "        vertical-align: middle;\n",
       "    }\n",
       "\n",
       "    .dataframe tbody tr th {\n",
       "        vertical-align: top;\n",
       "    }\n",
       "\n",
       "    .dataframe thead th {\n",
       "        text-align: right;\n",
       "    }\n",
       "</style>\n",
       "<table border=\"1\" class=\"dataframe\">\n",
       "  <thead>\n",
       "    <tr style=\"text-align: right;\">\n",
       "      <th></th>\n",
       "      <th>game_id</th>\n",
       "      <th>home_team</th>\n",
       "      <th>away_team</th>\n",
       "      <th>home</th>\n",
       "      <th>visitor</th>\n",
       "      <th>net</th>\n",
       "      <th>time</th>\n",
       "      <th>win</th>\n",
       "      <th>lead</th>\n",
       "    </tr>\n",
       "  </thead>\n",
       "  <tbody>\n",
       "    <tr>\n",
       "      <th>88028</th>\n",
       "      <td>401168258</td>\n",
       "      <td>Florida State</td>\n",
       "      <td>North Florida</td>\n",
       "      <td>8</td>\n",
       "      <td>4</td>\n",
       "      <td>19.8</td>\n",
       "      <td>2194</td>\n",
       "      <td>1</td>\n",
       "      <td>4</td>\n",
       "    </tr>\n",
       "    <tr>\n",
       "      <th>363196</th>\n",
       "      <td>401171635</td>\n",
       "      <td>San Diego</td>\n",
       "      <td>UC Davis</td>\n",
       "      <td>49</td>\n",
       "      <td>45</td>\n",
       "      <td>5.6</td>\n",
       "      <td>218</td>\n",
       "      <td>1</td>\n",
       "      <td>4</td>\n",
       "    </tr>\n",
       "    <tr>\n",
       "      <th>10611</th>\n",
       "      <td>401166071</td>\n",
       "      <td>Purdue</td>\n",
       "      <td>Chicago State</td>\n",
       "      <td>91</td>\n",
       "      <td>45</td>\n",
       "      <td>47.4</td>\n",
       "      <td>152</td>\n",
       "      <td>1</td>\n",
       "      <td>46</td>\n",
       "    </tr>\n",
       "    <tr>\n",
       "      <th>603094</th>\n",
       "      <td>401183488</td>\n",
       "      <td>St. John's</td>\n",
       "      <td>UMass</td>\n",
       "      <td>20</td>\n",
       "      <td>15</td>\n",
       "      <td>11.6</td>\n",
       "      <td>1820</td>\n",
       "      <td>1</td>\n",
       "      <td>5</td>\n",
       "    </tr>\n",
       "    <tr>\n",
       "      <th>567754</th>\n",
       "      <td>401175742</td>\n",
       "      <td>New Mexico State</td>\n",
       "      <td>UTEP</td>\n",
       "      <td>4</td>\n",
       "      <td>2</td>\n",
       "      <td>2.9</td>\n",
       "      <td>2218</td>\n",
       "      <td>1</td>\n",
       "      <td>2</td>\n",
       "    </tr>\n",
       "    <tr>\n",
       "      <th>187441</th>\n",
       "      <td>401169858</td>\n",
       "      <td>Tennessee</td>\n",
       "      <td>Chattanooga</td>\n",
       "      <td>50</td>\n",
       "      <td>36</td>\n",
       "      <td>18.9</td>\n",
       "      <td>376</td>\n",
       "      <td>1</td>\n",
       "      <td>14</td>\n",
       "    </tr>\n",
       "    <tr>\n",
       "      <th>106486</th>\n",
       "      <td>401168389</td>\n",
       "      <td>SMU</td>\n",
       "      <td>Georgetown</td>\n",
       "      <td>11</td>\n",
       "      <td>28</td>\n",
       "      <td>-5.3</td>\n",
       "      <td>1790</td>\n",
       "      <td>0</td>\n",
       "      <td>-17</td>\n",
       "    </tr>\n",
       "    <tr>\n",
       "      <th>617269</th>\n",
       "      <td>401187173</td>\n",
       "      <td>VCU</td>\n",
       "      <td>Tennessee</td>\n",
       "      <td>19</td>\n",
       "      <td>20</td>\n",
       "      <td>0.5</td>\n",
       "      <td>1714</td>\n",
       "      <td>0</td>\n",
       "      <td>-1</td>\n",
       "    </tr>\n",
       "    <tr>\n",
       "      <th>325581</th>\n",
       "      <td>401170866</td>\n",
       "      <td>Hartford</td>\n",
       "      <td>Sacred Heart</td>\n",
       "      <td>10</td>\n",
       "      <td>4</td>\n",
       "      <td>-9.7</td>\n",
       "      <td>2091</td>\n",
       "      <td>0</td>\n",
       "      <td>6</td>\n",
       "    </tr>\n",
       "    <tr>\n",
       "      <th>82114</th>\n",
       "      <td>401168239</td>\n",
       "      <td>Georgia Tech</td>\n",
       "      <td>Nebraska</td>\n",
       "      <td>46</td>\n",
       "      <td>37</td>\n",
       "      <td>4.7</td>\n",
       "      <td>781</td>\n",
       "      <td>1</td>\n",
       "      <td>9</td>\n",
       "    </tr>\n",
       "  </tbody>\n",
       "</table>\n",
       "</div>"
      ],
      "text/plain": [
       "          game_id         home_team      away_team  home  visitor   net  time  \\\n",
       "88028   401168258     Florida State  North Florida     8        4  19.8  2194   \n",
       "363196  401171635         San Diego       UC Davis    49       45   5.6   218   \n",
       "10611   401166071            Purdue  Chicago State    91       45  47.4   152   \n",
       "603094  401183488        St. John's          UMass    20       15  11.6  1820   \n",
       "567754  401175742  New Mexico State           UTEP     4        2   2.9  2218   \n",
       "187441  401169858         Tennessee    Chattanooga    50       36  18.9   376   \n",
       "106486  401168389               SMU     Georgetown    11       28  -5.3  1790   \n",
       "617269  401187173               VCU      Tennessee    19       20   0.5  1714   \n",
       "325581  401170866          Hartford   Sacred Heart    10        4  -9.7  2091   \n",
       "82114   401168239      Georgia Tech       Nebraska    46       37   4.7   781   \n",
       "\n",
       "        win  lead  \n",
       "88028     1     4  \n",
       "363196    1     4  \n",
       "10611     1    46  \n",
       "603094    1     5  \n",
       "567754    1     2  \n",
       "187441    1    14  \n",
       "106486    0   -17  \n",
       "617269    0    -1  \n",
       "325581    0     6  \n",
       "82114     1     9  "
      ]
     },
     "execution_count": 4,
     "metadata": {},
     "output_type": "execute_result"
    }
   ],
   "source": [
    "df = pd.read_csv('win_proba.csv')\n",
    "df = df.drop_duplicates().sample(frac=1.0)\n",
    "df['lead'] = df['home']-df['visitor']\n",
    "df.head(10)"
   ]
  },
  {
   "cell_type": "code",
   "execution_count": 210,
   "metadata": {},
   "outputs": [
    {
     "data": {
      "text/plain": [
       "<matplotlib.axes._subplots.AxesSubplot at 0x7fd12a662f60>"
      ]
     },
     "execution_count": 210,
     "metadata": {},
     "output_type": "execute_result"
    },
    {
     "data": {
      "image/png": "[encoded data removed]",
      "text/plain": [
       "<Figure size 432x288 with 1 Axes>"
      ]
     },
     "metadata": {
      "needs_background": "light"
     },
     "output_type": "display_data"
    }
   ],
   "source": [
    "favorite = df[(df.lead >= 2) & (df.lead <= 4) & (df.net>=4) & (df.net<=6)].groupby(['time_buckets']).agg({'win': pd.Series.mean})\n",
    "underdog = df[(df.lead >= 2) & (df.lead <= 4) & (df.net>=-6) & (df.net<=-4)].groupby(['time_buckets']).agg({'win': pd.Series.mean})\n",
    "axes = favorite.plot()\n",
    "underdog.plot(ax=axes)"
   ]
  },
  {
   "cell_type": "code",
   "execution_count": 9,
   "metadata": {},
   "outputs": [
    {
     "name": "stdout",
     "output_type": "stream",
     "text": [
      "Model: \"sequential_1\"\n",
      "_________________________________________________________________\n",
      "Layer (type)                 Output Shape              Param #   \n",
      "=================================================================\n",
      "dense_4 (Dense)              (None, 12)                48        \n",
      "_________________________________________________________________\n",
      "dense_5 (Dense)              (None, 12)                156       \n",
      "_________________________________________________________________\n",
      "dense_6 (Dense)              (None, 1)                 13        \n",
      "=================================================================\n",
      "Total params: 217\n",
      "Trainable params: 217\n",
      "Non-trainable params: 0\n",
      "_________________________________________________________________\n"
     ]
    }
   ],
   "source": [
    "model = tf.keras.models.Sequential([\n",
    "    tf.keras.layers.Dense(12, activation='relu', input_shape=[3,]),\n",
    "    tf.keras.layers.Dense(12, activation='relu'),\n",
    "    tf.keras.layers.Dense(1, activation='sigmoid')\n",
    "])\n",
    "model.compile(optimizer=tf.keras.optimizers.RMSprop(1e-3), loss='binary_crossentropy', metrics=['accuracy', 'AUC'])\n",
    "model.summary()"
   ]
  },
  {
   "cell_type": "code",
   "execution_count": 10,
   "metadata": {},
   "outputs": [
    {
     "name": "stdout",
     "output_type": "stream",
     "text": [
      "Train on 471185 samples\n",
      "Epoch 1/50\n",
      "471185/471185 [==============================] - 2s 4us/sample - loss: 1.2901 - accuracy: 0.8190 - AUC: 0.8441\n",
      "Epoch 2/50\n",
      "471185/471185 [==============================] - 1s 3us/sample - loss: 0.5563 - accuracy: 0.8362 - AUC: 0.8824\n",
      "Epoch 3/50\n",
      "471185/471185 [==============================] - 1s 3us/sample - loss: 0.4886 - accuracy: 0.8405 - AUC: 0.8919\n",
      "Epoch 4/50\n",
      "471185/471185 [==============================] - 1s 3us/sample - loss: 0.4342 - accuracy: 0.8442 - AUC: 0.8999\n",
      "Epoch 5/50\n",
      "471185/471185 [==============================] - 1s 3us/sample - loss: 0.3653 - accuracy: 0.8520 - AUC: 0.9114\n",
      "Epoch 6/50\n",
      "471185/471185 [==============================] - 1s 3us/sample - loss: 0.3375 - accuracy: 0.8557 - AUC: 0.9199\n",
      "Epoch 7/50\n",
      "471185/471185 [==============================] - 1s 3us/sample - loss: 0.3217 - accuracy: 0.8590 - AUC: 0.9244\n",
      "Epoch 8/50\n",
      "471185/471185 [==============================] - 1s 3us/sample - loss: 0.3090 - accuracy: 0.8621 - AUC: 0.9282\n",
      "Epoch 9/50\n",
      "471185/471185 [==============================] - 1s 3us/sample - loss: 0.3017 - accuracy: 0.8638 - AUC: 0.9304\n",
      "Epoch 10/50\n",
      "471185/471185 [==============================] - 1s 3us/sample - loss: 0.2956 - accuracy: 0.8660 - AUC: 0.9324\n",
      "Epoch 11/50\n",
      "471185/471185 [==============================] - 1s 3us/sample - loss: 0.2908 - accuracy: 0.8673 - AUC: 0.9342\n",
      "Epoch 12/50\n",
      "471185/471185 [==============================] - 1s 3us/sample - loss: 0.2868 - accuracy: 0.8686 - AUC: 0.9358\n",
      "Epoch 13/50\n",
      "471185/471185 [==============================] - 1s 3us/sample - loss: 0.2839 - accuracy: 0.8698 - AUC: 0.9369\n",
      "Epoch 14/50\n",
      "471185/471185 [==============================] - 1s 3us/sample - loss: 0.2816 - accuracy: 0.8712 - AUC: 0.9380\n",
      "Epoch 15/50\n",
      "471185/471185 [==============================] - 1s 3us/sample - loss: 0.2802 - accuracy: 0.8715 - AUC: 0.9385\n",
      "Epoch 16/50\n",
      "471185/471185 [==============================] - 1s 3us/sample - loss: 0.2786 - accuracy: 0.8725 - AUC: 0.9393\n",
      "Epoch 17/50\n",
      "471185/471185 [==============================] - 1s 3us/sample - loss: 0.2778 - accuracy: 0.8730 - AUC: 0.9396\n",
      "Epoch 18/50\n",
      "471185/471185 [==============================] - 2s 3us/sample - loss: 0.2771 - accuracy: 0.8736 - AUC: 0.9400\n",
      "Epoch 19/50\n",
      "471185/471185 [==============================] - 1s 3us/sample - loss: 0.2764 - accuracy: 0.8738 - AUC: 0.9403\n",
      "Epoch 20/50\n",
      "471185/471185 [==============================] - 2s 3us/sample - loss: 0.2763 - accuracy: 0.8740 - AUC: 0.9403\n",
      "Epoch 21/50\n",
      "471185/471185 [==============================] - 2s 3us/sample - loss: 0.2760 - accuracy: 0.8741 - AUC: 0.9405\n",
      "Epoch 22/50\n",
      "471185/471185 [==============================] - 1s 3us/sample - loss: 0.2760 - accuracy: 0.8740 - AUC: 0.9405\n",
      "Epoch 23/50\n",
      "471185/471185 [==============================] - 1s 3us/sample - loss: 0.2760 - accuracy: 0.8743 - AUC: 0.9405\n",
      "Epoch 24/50\n",
      "471185/471185 [==============================] - 1s 3us/sample - loss: 0.2757 - accuracy: 0.8746 - AUC: 0.9406\n",
      "Epoch 25/50\n",
      "471185/471185 [==============================] - 1s 3us/sample - loss: 0.2756 - accuracy: 0.8743 - AUC: 0.9407\n",
      "Epoch 26/50\n",
      "471185/471185 [==============================] - 1s 3us/sample - loss: 0.2755 - accuracy: 0.8747 - AUC: 0.9407\n",
      "Epoch 27/50\n",
      "471185/471185 [==============================] - 1s 3us/sample - loss: 0.2756 - accuracy: 0.8748 - AUC: 0.9407\n",
      "Epoch 28/50\n",
      "471185/471185 [==============================] - 1s 3us/sample - loss: 0.2753 - accuracy: 0.8748 - AUC: 0.9407\n",
      "Epoch 29/50\n",
      "471185/471185 [==============================] - 1s 3us/sample - loss: 0.2753 - accuracy: 0.8747 - AUC: 0.9408\n",
      "Epoch 30/50\n",
      "471185/471185 [==============================] - 1s 3us/sample - loss: 0.2751 - accuracy: 0.8750 - AUC: 0.9409\n",
      "Epoch 31/50\n",
      "471185/471185 [==============================] - 2s 3us/sample - loss: 0.2748 - accuracy: 0.8751 - AUC: 0.9410\n",
      "Epoch 32/50\n",
      "471185/471185 [==============================] - 2s 3us/sample - loss: 0.2750 - accuracy: 0.8752 - AUC: 0.9409\n",
      "Epoch 33/50\n",
      "471185/471185 [==============================] - 2s 3us/sample - loss: 0.2749 - accuracy: 0.8750 - AUC: 0.9410\n",
      "Epoch 34/50\n",
      "471185/471185 [==============================] - 2s 3us/sample - loss: 0.2750 - accuracy: 0.8752 - AUC: 0.9409\n",
      "Epoch 35/50\n",
      "471185/471185 [==============================] - 2s 3us/sample - loss: 0.2750 - accuracy: 0.8752 - AUC: 0.9410\n",
      "Epoch 36/50\n",
      "471185/471185 [==============================] - 1s 3us/sample - loss: 0.2749 - accuracy: 0.8752 - AUC: 0.9410\n",
      "Epoch 37/50\n",
      "471185/471185 [==============================] - 1s 3us/sample - loss: 0.2748 - accuracy: 0.8749 - AUC: 0.9410\n",
      "Epoch 38/50\n",
      "471185/471185 [==============================] - 1s 3us/sample - loss: 0.2749 - accuracy: 0.8752 - AUC: 0.9410\n",
      "Epoch 39/50\n",
      "471185/471185 [==============================] - 1s 3us/sample - loss: 0.2748 - accuracy: 0.8753 - AUC: 0.9411\n",
      "Epoch 40/50\n",
      "471185/471185 [==============================] - 1s 3us/sample - loss: 0.2747 - accuracy: 0.8751 - AUC: 0.9411\n",
      "Epoch 41/50\n",
      "471185/471185 [==============================] - 1s 3us/sample - loss: 0.2747 - accuracy: 0.8755 - AUC: 0.9411\n",
      "Epoch 42/50\n",
      "471185/471185 [==============================] - 1s 3us/sample - loss: 0.2747 - accuracy: 0.8749 - AUC: 0.9411\n",
      "Epoch 43/50\n",
      "471185/471185 [==============================] - 1s 3us/sample - loss: 0.2745 - accuracy: 0.8754 - AUC: 0.9412\n",
      "Epoch 44/50\n",
      "471185/471185 [==============================] - 1s 3us/sample - loss: 0.2745 - accuracy: 0.8754 - AUC: 0.9412\n",
      "Epoch 45/50\n",
      "471185/471185 [==============================] - 1s 3us/sample - loss: 0.2744 - accuracy: 0.8751 - AUC: 0.9412\n",
      "Epoch 46/50\n",
      "471185/471185 [==============================] - 1s 3us/sample - loss: 0.2745 - accuracy: 0.8750 - AUC: 0.9412\n",
      "Epoch 47/50\n",
      "471185/471185 [==============================] - 2s 3us/sample - loss: 0.2745 - accuracy: 0.8755 - AUC: 0.9412\n",
      "Epoch 48/50\n",
      "471185/471185 [==============================] - 1s 3us/sample - loss: 0.2746 - accuracy: 0.8754 - AUC: 0.9412\n",
      "Epoch 49/50\n",
      "471185/471185 [==============================] - 1s 3us/sample - loss: 0.2744 - accuracy: 0.8755 - AUC: 0.9412\n",
      "Epoch 50/50\n",
      "471185/471185 [==============================] - 1s 3us/sample - loss: 0.2744 - accuracy: 0.8752 - AUC: 0.9412\n"
     ]
    },
    {
     "data": {
      "text/plain": [
       "<tensorflow.python.keras.callbacks.History at 0x7f01fc51fc18>"
      ]
     },
     "execution_count": 10,
     "metadata": {},
     "output_type": "execute_result"
    }
   ],
   "source": [
    "model.fit(df[['lead','net','time']].to_numpy(),\n",
    "          df['win'].to_numpy(),\n",
    "          verbose=1,\n",
    "          shuffle=True,\n",
    "          epochs=50,\n",
    "          batch_size=256)"
   ]
  },
  {
   "cell_type": "code",
   "execution_count": 11,
   "metadata": {},
   "outputs": [],
   "source": [
    "times = list(range(0,2400,30))\n",
    "winp_favorite = [model.predict_proba(x=[[3,5,time]])[0][0] for time in times]\n",
    "winp_underdog = [model.predict_proba(x=[[3,-5,time]])[0][0] for time in times]"
   ]
  },
  {
   "cell_type": "code",
   "execution_count": 18,
   "metadata": {},
   "outputs": [
    {
     "data": {
      "text/plain": [
       "array([[0.3534137]], dtype=float32)"
      ]
     },
     "execution_count": 18,
     "metadata": {},
     "output_type": "execute_result"
    }
   ],
   "source": [
    "model.predict_proba(x=[[3, -25, 30]])"
   ]
  },
  {
   "cell_type": "code",
   "execution_count": 12,
   "metadata": {},
   "outputs": [
    {
     "data": {
      "image/png": "[encoded data removed]",
      "text/plain": [
       "<Figure size 432x288 with 1 Axes>"
      ]
     },
     "metadata": {
      "needs_background": "light"
     },
     "output_type": "display_data"
    }
   ],
   "source": [
    "plt.plot(times, winp_favorite, 'b-')\n",
    "plt.plot(times, winp_underdog, 'r-')\n",
    "plt.title('NCAA Win Probability')\n",
    "plt.xlabel('Time elapsed (s)')\n",
    "plt.savefig('ncaa_win_prob-1-hidden-layer.png')"
   ]
  },
  {
   "cell_type": "code",
   "execution_count": 17,
   "metadata": {},
   "outputs": [],
   "source": [
    "def transform(time):\n",
    "    return 1/(1+np.exp(0.01*time))\n",
    "\n",
    "def win_proba(lead, net, time, weights):\n",
    "    return tf.math.sigmoid(weights[0][0][0]*lead + weights[0][1][0]*net + weights[0][2][0]*time + weights[1][0])"
   ]
  },
  {
   "cell_type": "code",
   "execution_count": 91,
   "metadata": {},
   "outputs": [
    {
     "data": {
      "text/html": [
       "<div>\n",
       "<style scoped>\n",
       "    .dataframe tbody tr th:only-of-type {\n",
       "        vertical-align: middle;\n",
       "    }\n",
       "\n",
       "    .dataframe tbody tr th {\n",
       "        vertical-align: top;\n",
       "    }\n",
       "\n",
       "    .dataframe thead th {\n",
       "        text-align: right;\n",
       "    }\n",
       "</style>\n",
       "<table border=\"1\" class=\"dataframe\">\n",
       "  <thead>\n",
       "    <tr style=\"text-align: right;\">\n",
       "      <th></th>\n",
       "      <th>wins</th>\n",
       "      <th>losses</th>\n",
       "      <th>time_bin</th>\n",
       "      <th>min_time</th>\n",
       "      <th>max_time</th>\n",
       "      <th>wp</th>\n",
       "    </tr>\n",
       "  </thead>\n",
       "  <tbody>\n",
       "    <tr>\n",
       "      <th>0</th>\n",
       "      <td>1338</td>\n",
       "      <td>569</td>\n",
       "      <td>1</td>\n",
       "      <td>2321</td>\n",
       "      <td>2400</td>\n",
       "      <td>0.425262</td>\n",
       "    </tr>\n",
       "    <tr>\n",
       "      <th>1</th>\n",
       "      <td>1338</td>\n",
       "      <td>569</td>\n",
       "      <td>2</td>\n",
       "      <td>2241</td>\n",
       "      <td>2320</td>\n",
       "      <td>0.425262</td>\n",
       "    </tr>\n",
       "    <tr>\n",
       "      <th>2</th>\n",
       "      <td>1339</td>\n",
       "      <td>569</td>\n",
       "      <td>3</td>\n",
       "      <td>2161</td>\n",
       "      <td>2240</td>\n",
       "      <td>0.424944</td>\n",
       "    </tr>\n",
       "    <tr>\n",
       "      <th>3</th>\n",
       "      <td>1339</td>\n",
       "      <td>569</td>\n",
       "      <td>4</td>\n",
       "      <td>2081</td>\n",
       "      <td>2160</td>\n",
       "      <td>0.424944</td>\n",
       "    </tr>\n",
       "    <tr>\n",
       "      <th>4</th>\n",
       "      <td>1338</td>\n",
       "      <td>568</td>\n",
       "      <td>5</td>\n",
       "      <td>2001</td>\n",
       "      <td>2080</td>\n",
       "      <td>0.424514</td>\n",
       "    </tr>\n",
       "  </tbody>\n",
       "</table>\n",
       "</div>"
      ],
      "text/plain": [
       "   wins  losses  time_bin  min_time  max_time        wp\n",
       "0  1338     569         1      2321      2400  0.425262\n",
       "1  1338     569         2      2241      2320  0.425262\n",
       "2  1339     569         3      2161      2240  0.424944\n",
       "3  1339     569         4      2081      2160  0.424944\n",
       "4  1338     568         5      2001      2080  0.424514"
      ]
     },
     "execution_count": 91,
     "metadata": {},
     "output_type": "execute_result"
    }
   ],
   "source": [
    "outcomes = pd.read_csv('win_prob_outcomes.csv')\n",
    "outcomes['wp'] = outcomes.losses/outcomes.wins\n",
    "outcomes.head()"
   ]
  },
  {
   "cell_type": "code",
   "execution_count": 92,
   "metadata": {},
   "outputs": [
    {
     "data": {
      "text/plain": [
       "[<matplotlib.lines.Line2D at 0x7fd162c895f8>]"
      ]
     },
     "execution_count": 92,
     "metadata": {},
     "output_type": "execute_result"
    },
    {
     "data": {
      "image/png": "[encoded data removed]",
      "text/plain": [
       "<Figure size 432x288 with 1 Axes>"
      ]
     },
     "metadata": {
      "needs_background": "light"
     },
     "output_type": "display_data"
    }
   ],
   "source": [
    "plt.plot(outcomes.min_time, outcomes.wp, 'bo')"
   ]
  },
  {
   "cell_type": "code",
   "execution_count": null,
   "metadata": {},
   "outputs": [],
   "source": []
  }
 ],
 "metadata": {
  "kernelspec": {
   "display_name": "Python 3",
   "language": "python",
   "name": "python3"
  },
  "language_info": {
   "codemirror_mode": {
    "name": "ipython",
    "version": 3
   },
   "file_extension": ".py",
   "mimetype": "text/x-python",
   "name": "python",
   "nbconvert_exporter": "python",
   "pygments_lexer": "ipython3",
   "version": "3.7.0"
  }
 },
 "nbformat": 4,
 "nbformat_minor": 4
}
